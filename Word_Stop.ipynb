{
  "nbformat": 4,
  "nbformat_minor": 0,
  "metadata": {
    "colab": {
      "provenance": []
    },
    "kernelspec": {
      "name": "python3",
      "display_name": "Python 3"
    },
    "language_info": {
      "name": "python"
    }
  },
  "cells": [
    {
      "cell_type": "markdown",
      "source": [
        "### Step 1: Install and Import\n",
        "In this step, we install the `stopwordsiso` library.  \n",
        "This library provides stopwords for many languages, including Hindi.  \n",
        "We also import it into our code so we can use it later.\n"
      ],
      "metadata": {
        "id": "CmNPTE44GMkt"
      }
    },
    {
      "cell_type": "code",
      "source": [
        "!pip install stopwordsiso\n",
        "\n",
        "import stopwordsiso as sw"
      ],
      "metadata": {
        "id": "xXzm9FDqACgN"
      },
      "execution_count": null,
      "outputs": []
    },
    {
      "cell_type": "markdown",
      "source": [
        "### Step 2: Load Hindi Stopwords\n",
        "Here, we load the stopword list for **Hindi** using the code `sw.stopwords(\"hi\")`.  \n",
        "\n",
        "- `hi` is the language code for Hindi.  \n",
        "- We print the **total number of stopwords** available.  \n",
        "- We also show a few **sample stopwords** to understand what kind of words are included.  \n"
      ],
      "metadata": {
        "id": "bWSkhC8gGOz0"
      }
    },
    {
      "cell_type": "code",
      "source": [
        "hindi_stopwords = sw.stopwords(\"hi\")\n",
        "\n",
        "print(\"Total Hindi stopwords found:\", len(hindi_stopwords))\n",
        "print(\"Sample stopwords:\", list(hindi_stopwords)[:20])"
      ],
      "metadata": {
        "id": "hPipU-jAFsOI"
      },
      "execution_count": null,
      "outputs": []
    },
    {
      "cell_type": "markdown",
      "source": [
        "### Step 3: Define a Function to Remove Stopwords\n",
        "We now create a function called `remove_stopwords()`.  \n",
        "\n",
        "- This function takes a sentence and the list of stopwords.  \n",
        "- It splits the sentence into words.  \n",
        "- It removes any word that is present in the stopword list.  \n",
        "- Finally, it joins the remaining words back into a cleaned sentence.  \n"
      ],
      "metadata": {
        "id": "7MfjK0PpGSq8"
      }
    },
    {
      "cell_type": "code",
      "source": [
        "def remove_stopwords(text, stopword_list):\n",
        "    words = text.split()\n",
        "    filtered = [w for w in words if w not in stopword_list]\n",
        "    return \" \".join(filtered)"
      ],
      "metadata": {
        "id": "gNBCPk4VFtuP"
      },
      "execution_count": null,
      "outputs": []
    },
    {
      "cell_type": "markdown",
      "source": [
        "### Step 4: Test the Function with a Hindi Sentence\n",
        "We test our stopword removal function with a sample Hindi sentence:  \n",
        "`यह एक सरल वाक्य है जिसे हम प्रोसेस कर रहे हैं`\n",
        "\n",
        "- First, we print the **original text**.  \n",
        "- Then we print the **cleaned text** (after stopword removal).  \n",
        "\n",
        "In the cleaned sentence, common Hindi stopwords like *यह (this)*, *एक (one)*, and *है (is)* are removed.  \n",
        "This shows how stopword removal works in NLP preprocessing.  \n"
      ],
      "metadata": {
        "id": "ktCB2J-tGVLs"
      }
    },
    {
      "cell_type": "code",
      "source": [
        "hindi_text = \"यह एक सरल वाक्य है जिसे हम प्रोसेस कर रहे हैं\"\n",
        "\n",
        "print(\"\\n\")\n",
        "print(\"Original text:\", hindi_text)\n",
        "print(\" After removing stopwords:\", remove_stopwords(hindi_text, hindi_stopwords))"
      ],
      "metadata": {
        "id": "WHMOoxxeFu1Y"
      },
      "execution_count": null,
      "outputs": []
    }
  ]
}