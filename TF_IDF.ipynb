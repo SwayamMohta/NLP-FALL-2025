{
  "nbformat": 4,
  "nbformat_minor": 0,
  "metadata": {
    "colab": {
      "provenance": []
    },
    "kernelspec": {
      "name": "python3",
      "display_name": "Python 3"
    },
    "language_info": {
      "name": "python"
    }
  },
  "cells": [
    {
      "cell_type": "markdown",
      "source": [
        "#TF-IDF Workflow (Flow Chart)\n",
        "\n",
        "```text\n",
        "Start\n",
        "  │\n",
        "  ▼\n",
        "Step 1: Input Documents\n",
        "  [\"Doc1 text\", \"Doc2 text\", \"Doc3 text\"]\n",
        "  │\n",
        "  ▼\n",
        "Step 2: Preprocessing\n",
        "  - Lowercase\n",
        "  - Tokenize (split into words)\n",
        "  │\n",
        "  ▼\n",
        "Step 3: Vocabulary Creation\n",
        "  - Collect all unique words across documents\n",
        "  │\n",
        "  ▼\n",
        "Step 4: Term Frequency (TF)\n",
        "  For each document:\n",
        "    TF(word, doc) = count(word in doc) / total words in doc\n",
        "  │\n",
        "  ▼\n",
        "Step 5: Inverse Document Frequency (IDF)\n",
        "  For each word:\n",
        "    IDF(word) = log( N / (1 + number_of_docs_containing_word) ) + 1\n",
        "  - Rare words → high IDF\n",
        "  - Common words → low IDF\n",
        "  │\n",
        "  ▼\n",
        "Step 6: TF × IDF\n",
        "  For each word in each doc:\n",
        "    TF-IDF(word, doc) = TF * IDF\n",
        "  │\n",
        "  ▼\n",
        "Step 7: Results\n",
        "  - Each document now has TF-IDF scores for words\n",
        "  - Higher score = more important word in that document"
      ],
      "metadata": {
        "id": "994d0NLBvJFS"
      }
    },
    {
      "cell_type": "markdown",
      "source": [
        "# Step 1: Define sample documents"
      ],
      "metadata": {
        "id": "_1x6rhkgm_Jx"
      }
    },
    {
      "cell_type": "code",
      "execution_count": null,
      "metadata": {
        "id": "JMvbmkYGiXbM"
      },
      "outputs": [],
      "source": [
        "documents = [\n",
        "    \"Natural language processing makes computers understand text\",\n",
        "    \"TF IDF is a technique in information retrieval\",\n",
        "    \"Language models are a part of natural language processing\"\n",
        "]\n",
        "\n",
        "# Just to see them clearly\n",
        "for i, doc in enumerate(documents, 1):\n",
        "    print(f\"Document {i}: {doc}\")\n"
      ]
    },
    {
      "cell_type": "markdown",
      "source": [
        "# Step 2: Preprocess (lowercase + split into words)"
      ],
      "metadata": {
        "id": "JgZbbCsqnBUg"
      }
    },
    {
      "cell_type": "code",
      "source": [
        "def preprocess(text):\n",
        "    return text.lower().split()\n",
        "\n",
        "tokenized_docs = [preprocess(doc) for doc in documents]\n",
        "\n",
        "print(\"Tokenized Documents:\")\n",
        "for i, doc in enumerate(tokenized_docs, 1):\n",
        "    print(f\"Doc {i}:\", doc)\n"
      ],
      "metadata": {
        "id": "UasoTZn-uefh"
      },
      "execution_count": null,
      "outputs": []
    },
    {
      "cell_type": "markdown",
      "source": [
        "# Step 3: Build vocabulary (all unique words)"
      ],
      "metadata": {
        "id": "zUUqyIlWnDA4"
      }
    },
    {
      "cell_type": "code",
      "source": [
        "vocab = []\n",
        "for doc in tokenized_docs:\n",
        "    for word in doc:\n",
        "        if word not in vocab:\n",
        "            vocab.append(word)\n",
        "\n",
        "print(\"Vocabulary:\", vocab)"
      ],
      "metadata": {
        "id": "tiLvwYdvutwZ"
      },
      "execution_count": null,
      "outputs": []
    },
    {
      "cell_type": "markdown",
      "source": [
        "# Step 4: Compute Term Frequency (TF)"
      ],
      "metadata": {
        "id": "gev6AlAInFZo"
      }
    },
    {
      "cell_type": "code",
      "source": [
        "def compute_tf(doc, vocab):\n",
        "    tf = {}\n",
        "    total_words = len(doc)\n",
        "    for word in vocab:\n",
        "        tf[word] = doc.count(word) / total_words\n",
        "    return tf\n",
        "\n",
        "tfs = [compute_tf(doc, vocab) for doc in tokenized_docs]\n",
        "\n",
        "print(\"TF for Document 1:\")\n",
        "print(tfs[0])\n"
      ],
      "metadata": {
        "id": "FaEMvcEvuvdY"
      },
      "execution_count": null,
      "outputs": []
    },
    {
      "cell_type": "markdown",
      "source": [
        "# Step 5: Compute Inverse Document Frequency (IDF)"
      ],
      "metadata": {
        "id": "t0r30KOMnIEA"
      }
    },
    {
      "cell_type": "code",
      "source": [
        "import math\n",
        "def compute_idf(docs, vocab):\n",
        "    N = len(docs)\n",
        "    idf = {}\n",
        "    for word in vocab:\n",
        "        containing = 0\n",
        "        for doc in docs:\n",
        "            if word in doc:\n",
        "                containing += 1\n",
        "        idf[word] = math.log(N / (1 + containing)) + 1\n",
        "    return idf\n",
        "\n",
        "idf = compute_idf(tokenized_docs, vocab)\n",
        "\n",
        "print(\"IDF values:\")\n",
        "print(idf)\n"
      ],
      "metadata": {
        "id": "i-zAa-SNuxDw"
      },
      "execution_count": null,
      "outputs": []
    },
    {
      "cell_type": "markdown",
      "source": [
        "# Step 6: Compute TF-IDF"
      ],
      "metadata": {
        "id": "t-RF_19enLYh"
      }
    },
    {
      "cell_type": "code",
      "source": [
        "\n",
        "def compute_tfidf(tf, idf):\n",
        "    tfidf = {}\n",
        "    for word, value in tf.items():\n",
        "        tfidf[word] = value * idf[word]\n",
        "    return tfidf\n",
        "\n",
        "tfidf_docs = [compute_tfidf(tf, idf) for tf in tfs]\n",
        "\n",
        "print(\"TF-IDF for Document 1:\")\n",
        "print(tfidf_docs[0])\n"
      ],
      "metadata": {
        "id": "9uv0VTLfuyXY"
      },
      "execution_count": null,
      "outputs": []
    },
    {
      "cell_type": "markdown",
      "source": [
        "# Step 7: Print results nicely"
      ],
      "metadata": {
        "id": "LJbv1vn8nOKg"
      }
    },
    {
      "cell_type": "code",
      "source": [
        "for i, doc_tfidf in enumerate(tfidf_docs):\n",
        "    print(f\"\\nDocument {i+1}:\")\n",
        "    for word, score in doc_tfidf.items():\n",
        "        if score > 0:\n",
        "            print(f\"{word:15} -> {score:.4f}\")\n"
      ],
      "metadata": {
        "id": "Ol-39ElKu0Sh"
      },
      "execution_count": null,
      "outputs": []
    }
  ]
}