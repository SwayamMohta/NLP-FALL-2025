{
  "nbformat": 4,
  "nbformat_minor": 0,
  "metadata": {
    "colab": {
      "provenance": []
    },
    "kernelspec": {
      "name": "python3",
      "display_name": "Python 3"
    },
    "language_info": {
      "name": "python"
    }
  },
  "cells": [
    {
      "cell_type": "markdown",
      "source": [
        "#  NLP Class Activity 1\n",
        "\n",
        "### **Objective**\n",
        "This notebook demonstrates a two-part process common in data science and NLP.\n",
        "1.  **Data Generation**: Create a large, synthetic (fake) dataset of student records using the `faker` library.\n",
        "2.  **Pattern Matching**: Use **Regular Expressions (Regex)** to filter and query this dataset to find records that match specific text patterns.\n",
        "\n",
        "---\n",
        "## **Part 1: Generating the Student Dataset**\n",
        "This section of the code is responsible for creating a realistic-looking dataset of 100,000 students.\n",
        "\n",
        "### **Libraries Used**\n",
        "* **`pandas`**: The primary tool for creating and working with the data in a table-like structure called a DataFrame.\n",
        "* **`faker`**: A Python library that generates fake data, such as names, which is essential for creating a realistic dataset without using real private information.\n",
        "* **`random`**: A standard Python library used here to randomly assign courses and sections to each student.\n",
        "* **`tabulate`**: A library used to print the data in a clean, well-formatted table in the output.\n",
        "\n"
      ],
      "metadata": {
        "id": "aRBOY-vU5GVO"
      }
    },
    {
      "cell_type": "code",
      "execution_count": null,
      "metadata": {
        "id": "7JcY080vf57O"
      },
      "outputs": [],
      "source": [
        "!pip install faker"
      ]
    },
    {
      "cell_type": "code",
      "source": [
        "import pandas as pd\n",
        "from faker import Faker\n",
        "import random\n",
        "from tabulate import tabulate\n",
        "\n",
        "\n",
        "\n",
        "print(\"Part 1: Generating the student dataset\")\n",
        "\n",
        "fake = Faker()\n",
        "\n",
        "NUM_RECORDS = 100000\n",
        "BATCH_CODE = \"SE23UARI\"\n",
        "DOMAIN_NAME = \"@mahindrauniversity.edu.in\"\n",
        "COURSE_CODES = ['CS3126', 'CS3202', 'MA2101','CS4301', 'DS3001', 'AI3100', 'EE3205', 'CH1101']\n",
        "SECTIONS = ['AI1', 'AI2', 'AI3', 'AI4']\n",
        "\n",
        "student_data = []\n",
        "for i in range(1, NUM_RECORDS + 1):\n",
        "    first_name = fake.first_name()\n",
        "    last_name = fake.last_name()\n",
        "    record = {\n",
        "        \"Student Name\": f\"{first_name} {last_name}\",\n",
        "        \"Roll Number\": f\"{BATCH_CODE}{str(i).zfill(3)}\",\n",
        "        \"Courses Taken\": \", \".join(random.sample(COURSE_CODES, k=random.randint(3, 5))),\n",
        "        \"Email\": f\"{first_name.lower()}.{last_name.lower()}{random.randint(1,99)}{DOMAIN_NAME}\",\n",
        "        \"Section\": random.choice(SECTIONS)\n",
        "    }\n",
        "    student_data.append(record)\n",
        "\n",
        "df = pd.DataFrame(student_data)\n",
        "print(\"\\n Dataset generated successfully. Here's a sample:\\n\")\n",
        "print(tabulate(df.head(20), headers=\"keys\", tablefmt=\"pretty\"))\n"
      ],
      "metadata": {
        "id": "m6YVmNUPgAI6"
      },
      "execution_count": null,
      "outputs": []
    },
    {
      "cell_type": "markdown",
      "source": [
        "## **Part 2: Regular Expression (Regex) Filtering**\n",
        "This section demonstrates how to search the dataset for specific patterns using regular expressions. A regex is a special sequence of characters that defines a search pattern, allowing for powerful and flexible text matching."
      ],
      "metadata": {
        "id": "8qYd6aRb70nm"
      }
    },
    {
      "cell_type": "code",
      "source": [
        "import re\n",
        "from tabulate import tabulate"
      ],
      "metadata": {
        "id": "u9yGY5Rk74zm"
      },
      "execution_count": null,
      "outputs": []
    },
    {
      "cell_type": "markdown",
      "source": [
        "### **Example 1: Find Roll Numbers Ending in \"007\"**\n",
        "* **Goal**: To find any student whose roll number ends with the exact digits \"007\".\n",
        "* **Pattern**: `r\"007$\"`\n",
        "* **Explanation**:\n",
        "    * `007`: Matches the literal characters \"007\".\n",
        "    * `$`: A special character (anchor) that signifies the pattern must appear at the very **end of the string**."
      ],
      "metadata": {
        "id": "2agyP6P676R9"
      }
    },
    {
      "cell_type": "code",
      "source": [
        "pattern_roll = r\"SE22UARI007$\"\n",
        "matched_roll = df[df[\"Roll Number\"].str.contains(pattern_roll, regex=True)]\n",
        "print(\"Students with Roll Numbers ending in '007':\")\n",
        "print(tabulate(matched_roll.head(10), headers=\"keys\", tablefmt=\"pretty\"))\n",
        "print(\"-\" * 80)"
      ],
      "metadata": {
        "id": "_PsQNV4klvm4"
      },
      "execution_count": null,
      "outputs": []
    },
    {
      "cell_type": "markdown",
      "source": [
        "### **Example 2: Find Students in \"CS\" Courses**\n",
        "* **Goal**: To find all students who have taken at least one course that starts with \"CS\".\n",
        "* **Pattern**: `r\"\\bCS\\d{4}\\b\"`\n",
        "* **Explanation**:\n",
        "    * `\\b`: Represents a **word boundary**, ensuring we match \"CS\" as a whole word.\n",
        "    * `CS`: Matches the literal letters \"CS\".\n",
        "    * `\\d{4}`: Matches exactly **four digits**."
      ],
      "metadata": {
        "id": "AwMpx4MN8HJD"
      }
    },
    {
      "cell_type": "code",
      "source": [
        "pattern_course = r\"\\bCS\\d{4}\\b\"\n",
        "matched_course = df[df[\"Courses Taken\"].str.contains(pattern_course, regex=True)]\n",
        "print(\" Number of students taking at least one CS course:\", len(matched_course))\n",
        "print(\"Preview:\")\n",
        "print(tabulate(matched_course.head(10), headers=\"keys\", tablefmt=\"pretty\"))\n",
        "print(\"-\" * 80)"
      ],
      "metadata": {
        "id": "esuuhoo4l3DI"
      },
      "execution_count": null,
      "outputs": []
    },
    {
      "cell_type": "markdown",
      "source": [
        "### **Example 3: Find Students in Section \"AI1\"**\n",
        "* **Goal**: To find all students who are in the section named exactly \"AI1\".\n",
        "* **Pattern**: `r\"^AI1$\"`\n",
        "* **Explanation**:\n",
        "    * `^`: An anchor that matches the **start of the string**.\n",
        "    * `$`: An anchor that matches the **end of the string**.\n",
        "    * Using both ensures the entire string is *exactly* \"AI1\"."
      ],
      "metadata": {
        "id": "W2_Byz6u8PHF"
      }
    },
    {
      "cell_type": "code",
      "source": [
        "pattern_section = r\"^AI1$\"\n",
        "matched_section = df[df[\"Section\"].str.contains(pattern_section, regex=True)]\n",
        "print(\" Number of students in Section AI1:\", len(matched_section))\n",
        "print(\"Preview:\")\n",
        "print(tabulate(matched_section.head(10), headers=\"keys\", tablefmt=\"pretty\"))\n",
        "print(\"-\" * 80)"
      ],
      "metadata": {
        "id": "Uv-DoXnR8QWt"
      },
      "execution_count": null,
      "outputs": []
    }
  ]
}